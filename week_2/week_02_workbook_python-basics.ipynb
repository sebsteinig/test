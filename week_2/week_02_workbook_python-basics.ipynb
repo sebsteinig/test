{
 "cells": [
  {
   "cell_type": "markdown",
   "id": "59d56063-bc9d-4b2c-876d-f6f906f4eefe",
   "metadata": {},
   "source": [
    "# Week 2: Introduction to Python\n",
    "Python is a programming language which allows us to give instructions to the computer. These instructions can be as simple as \"add together these two numbers\" or as complex as \"give me the projected future surface warming for different anthropogenic emission scenarios\". For the former we will be able to complete the task using only a single instruction but for the latter, we may have to write a larger program containing hundreds or thousands of instructions analysing multiple observational and simulated data sets. Python is a well-established language, with the current version (version 3) released in 2008 and it is installed by default on nearly all modern Linux systems. Python is also available for OS X and Windows.\n",
    "\n",
    "This course is going to start from the beginning, showing you to talk to the computer to perform simple tasks and as you become more confident and follow the later lectures, you will find that you are able to write much more complex programmes. Even though we focus on the Python language in this course, most of the concepts and strategies that you will learn here are also very similar and directly applicable to other common programming languages. The vocabulary and grammar rules from this course will help you to read and write other programming languages much more easily in the future and develop generic scientific computing and geographic data science strategies."
   ]
  },
  {
   "cell_type": "markdown",
   "id": "a5203ca7-14fa-4e5d-b023-54d379b666f7",
   "metadata": {},
   "source": [
    "## Table of Contents\n",
    "This first lecture will introduce you to the basics of the Python programming language. \n",
    "\n",
    "You can jump ahead to any chapter with the navigation below:\n",
    "\n",
    "#### 1. [Installing Python](./chapters/01-installing_python.ipynb)\n",
    "#### 2. [Running Python](./chapters/02-running_python.ipynb)\n",
    "#### 3. [Data types](./chapters/03-data_types.ipynb)\n",
    "#### 4. [Lists](./chapters/04-lists.ipynb)\n",
    "#### 5. [Loops](./chapters/05-loops.ipynb)"
   ]
  },
  {
   "cell_type": "code",
   "execution_count": null,
   "id": "2628a45b-8923-44e4-9e84-90a08329dc37",
   "metadata": {},
   "outputs": [],
   "source": []
  },
  {
   "cell_type": "code",
   "execution_count": null,
   "id": "6f08300e-9fd6-4d35-a499-1c1673e18c20",
   "metadata": {},
   "outputs": [],
   "source": []
  },
  {
   "cell_type": "markdown",
   "id": "706c2e6b-53ca-4d31-8cac-733389b903b7",
   "metadata": {},
   "source": [
    "## [[Next](./chapters/01-installing_python.ipynb)]"
   ]
  }
 ],
 "metadata": {
  "kernelspec": {
   "display_name": "Python 3 (ipykernel)",
   "language": "python",
   "name": "python3"
  },
  "language_info": {
   "codemirror_mode": {
    "name": "ipython",
    "version": 3
   },
   "file_extension": ".py",
   "mimetype": "text/x-python",
   "name": "python",
   "nbconvert_exporter": "python",
   "pygments_lexer": "ipython3",
   "version": "3.9.12"
  },
  "toc-autonumbering": false,
  "toc-showcode": false,
  "toc-showmarkdowntxt": false
 },
 "nbformat": 4,
 "nbformat_minor": 5
}

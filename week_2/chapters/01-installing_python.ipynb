{
 "cells": [
  {
   "cell_type": "markdown",
   "id": "1e8f87e0-5544-424a-87be-226096412f89",
   "metadata": {},
   "source": [
    "#### [[back to main](../week_02_workbook_python-basics.ipynb)]"
   ]
  },
  {
   "cell_type": "markdown",
   "id": "7bd394ef-9ae3-447b-a1d7-ea0048ca9a2c",
   "metadata": {},
   "source": [
    "# Setting up your workspace\n",
    "\n",
    "There are lots of different ways to run Python code and many tools to help you write it. You don't require any special tools to create a Python script, a simple text editor like Notepad on Windows is sufficient. More advanced tools include things like Jupyter Notebooks and IDEs like Spyder or Visual Studio Code.\n",
    "\n",
    "For the first part of this course we will be using a free tool called JupyterLab which provides you with a local editor in your web browser where you can write and run Python code. The easiest way to get access to JupyterLab is to [install Anaconda](https://www.anaconda.com/products/individual#Downloads) which is a piece of software which includes Python along with lots of other tools. It is freely available for Windows, MacOS and Linux.\n",
    "\n",
    "Anaconda should be pre-installed on all the computers in the teaching labs and you should be ready to start coding just by signing in with your UoB credentials (make sure to click on the shortcut for Anaconda3, which will use Python 3). You can also install it on your personal laptop and follow the course on it. If you are working on a loan laptop, Anaconda can be installed into your home area, so you will not need any special permissions. Once Anaconda is installed, start \"Anaconda Navigator\" and press the JupyterLab button on the main screen:\n",
    "\n",
    "![Anaconda Navigator](../assets/anaconda-navigator.jpg \"Anaconda Navigator\")"
   ]
  },
  {
   "cell_type": "markdown",
   "id": "57318b61-d568-48a9-b997-3b83320f0a6f",
   "metadata": {},
   "source": [
    "This will open JupyterLab in your default web browser and will look something like this:\n",
    "\n",
    "![JupyterLab](../assets/jupyterlab.jpg \"JupyterLab\")"
   ]
  },
  {
   "cell_type": "markdown",
   "id": "5b2665cd-13dd-4780-baf5-9b8ab4d2eedd",
   "metadata": {},
   "source": [
    "The exact contents of the window, especially the list of files in the file browser on the left, might look different than in the screenshot above. Let's create a working directory (or navigate to the directory you are running this notebook from) that we can use for the rest of the course. This could ideally be on your Microsoft OneDrive to automatically back up your files. \n",
    "\n",
    "---\n",
    "No matter how your local file browser looks like, if you see the options to open a new Python 3 Notebook (ipykernel), a terminal and a text file in the 'Launcher' window on the right, you are ready to write your first line of Python code!\n"
   ]
  },
  {
   "cell_type": "markdown",
   "id": "b82c8065-84c9-4f3d-9e65-bfb0e31f7b17",
   "metadata": {},
   "source": [
    "## [[Previous](../week_02_workbook_python-basics.ipynb)] | [[Next](./02-running_python.ipynb)]"
   ]
  }
 ],
 "metadata": {
  "kernelspec": {
   "display_name": "Python 3 (ipykernel)",
   "language": "python",
   "name": "python3"
  },
  "language_info": {
   "codemirror_mode": {
    "name": "ipython",
    "version": 3
   },
   "file_extension": ".py",
   "mimetype": "text/x-python",
   "name": "python",
   "nbconvert_exporter": "python",
   "pygments_lexer": "ipython3",
   "version": "3.9.12"
  }
 },
 "nbformat": 4,
 "nbformat_minor": 5
}

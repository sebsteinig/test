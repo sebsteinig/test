{
 "cells": [
  {
   "cell_type": "markdown",
   "id": "e057e088-de06-4266-9959-eb42894dbbb4",
   "metadata": {},
   "source": [
    "#### [[back to main](../week_02_workbook_python-basics.ipynb)]"
   ]
  },
  {
   "cell_type": "markdown",
   "id": "214f4e92-7b49-4df2-8297-af244dd45a0f",
   "metadata": {},
   "source": [
    "# Dictionaries\n",
    "\n",
    "Lists let you store lots of variables, and to access them by their location in the list. However, there are times when you want to store lots of variables, but access them using more complex relationships. One example is a *dictionary*, which lets you store variables and access them using a *key*.\n",
    "\n",
    "Dictionaries in Python are created using curly brackets. As an example:"
   ]
  },
  {
   "cell_type": "code",
   "execution_count": 2,
   "id": "bd9a6480-b935-476a-bf70-a54c452e2be0",
   "metadata": {},
   "outputs": [
    {
     "name": "stdout",
     "output_type": "stream",
     "text": [
      "meow\n"
     ]
    }
   ],
   "source": [
    "sounds = {\"cat\": \"meow\", \"dog\": \"woof\", \"horse\": \"neigh\"}\n",
    "\n",
    "cat_sound = sounds[\"cat\"]\n",
    "\n",
    "print(cat_sound)"
   ]
  },
  {
   "cell_type": "markdown",
   "id": "86f3322f-75f3-46b7-b3a7-5459be0f522b",
   "metadata": {},
   "source": [
    "What we did here was create a dictionary on the first line. A dictionary is created using curly brackets (`{}`), in much the same way as square brackets are used for creating lists. The dictionary we created here has three items in it where each item comprises a *key* and a *value*. The *value* is the real data that we want to keep hold of and the *key* is how we can get at the data we want. The key and value are separated by a colon and each key-value pair is separated by a comma.\n",
    "\n",
    "On the next line we access the data in the dictionary `sounds`. Again, like lists we use the square brackets to ask questions of our data. In this case we're asking the dictionary to give us the value associated with the key `\"cat\"` and so it will return to us `\"meow\"`.\n",
    "\n",
    "Since dictionaries can be quite large and it can sometimes be hard to see which parts are keys and which are values, it is possible to write dictionaries over multiple lines, one line per key-value item:"
   ]
  },
  {
   "cell_type": "code",
   "execution_count": 3,
   "id": "b0044d6f-b72b-4fbb-b6ec-8c899fbf897f",
   "metadata": {},
   "outputs": [
    {
     "name": "stdout",
     "output_type": "stream",
     "text": [
      "meow\n"
     ]
    }
   ],
   "source": [
    "sounds = {\n",
    "    \"cat\": \"meow\",\n",
    "    \"dog\": \"woof\",\n",
    "    \"horse\": \"neigh\"\n",
    "}\n",
    "\n",
    "cat_sound = sounds[\"cat\"]\n",
    "\n",
    "print(cat_sound)"
   ]
  },
  {
   "cell_type": "markdown",
   "id": "67f80751-8eab-4c09-a3fd-2257f6806ca4",
   "metadata": {},
   "source": [
    "<div class=\"alert alert-info\" style=\"background-color: white; border: 2px solid; padding: 10px\">\n",
    "    <b><i class=\"fa fa-exclamation-circle\" style=\"font-size: x-large\"></i> <span style=\"font-size:x-large;\">&nbsp;Exercise 11</span></b><br>\n",
    "        \n",
    "- Duplicate the dictionary above and ask for the sound of the dog and the horse.\n",
    "- What happens if you ask for an animal that isn't in the dictionary?\n",
    "\n",
    "<div>"
   ]
  },
  {
   "cell_type": "code",
   "execution_count": 6,
   "id": "a54ec80f-6231-4abe-8ea7-f3f87b2fad52",
   "metadata": {},
   "outputs": [],
   "source": [
    "# Write your exercise code here\n"
   ]
  },
  {
   "cell_type": "markdown",
   "id": "33feb6cc-4e2e-47c5-8142-2337fb0eb4ac",
   "metadata": {},
   "source": [
    "[<small>answer</small>](../solutions/first_dictionary.ipynb)"
   ]
  },
  {
   "cell_type": "markdown",
   "id": "3e809383-aadf-4107-a7f5-2339c2138991",
   "metadata": {},
   "source": [
    "## Adding new data into dictionaries\n",
    "\n",
    "As with lists, dictionaries are dynamic so we can add entries into a dictionary.\n",
    "\n",
    "Let's say that we want to add in a new sound for a cow into our `sounds` dictionary. The key that the data will have will be `\"cow\"` and the value will be `\"moo\"`. To do so we put `sounds[\"cow\"]` on the left-hand side of a variable assignment expression, as if we're making a new variable. On the right goes the data that we want to put into the dictionary:"
   ]
  },
  {
   "cell_type": "code",
   "execution_count": 4,
   "id": "ad6045af-c0d2-4fa7-bead-b139e2af4501",
   "metadata": {},
   "outputs": [
    {
     "name": "stdout",
     "output_type": "stream",
     "text": [
      "{'cat': 'meow', 'dog': 'woof', 'horse': 'neigh', 'cow': 'moo'}\n"
     ]
    }
   ],
   "source": [
    "sounds = {\n",
    "    \"cat\": \"meow\",\n",
    "    \"dog\": \"woof\",\n",
    "    \"horse\": \"neigh\"\n",
    "}\n",
    "\n",
    "sounds[\"cow\"] = \"moo\"\n",
    "\n",
    "print(sounds)"
   ]
  },
  {
   "cell_type": "markdown",
   "id": "a7b70492-0e16-49a4-87f3-fbbd407ba21d",
   "metadata": {},
   "source": [
    "This is saying that we want the value `\"moo\"` associated with the key `\"cow\"` in the dictionary `sounds`."
   ]
  },
  {
   "cell_type": "markdown",
   "id": "3ded79e9-65c1-4a36-a09c-74da4f63fef2",
   "metadata": {},
   "source": [
    "<div class=\"alert alert-info\" style=\"background-color: white; border: 2px solid; padding: 10px\">\n",
    "    <b><i class=\"fa fa-exclamation-circle\" style=\"font-size: x-large\"></i> <span style=\"font-size:x-large;\">&nbsp;Exercise 12</span></b><br>\n",
    "        \n",
    "- Start with the dictionary below and assign some additional animal names (e.g., horse and cow) to a list. Assign their respective sounds to a seperate list. Now loop over the animal list and add their sounds to the dictionary dynamically.\n",
    "- What happens when you add a `key` that already exists in the dictionary?\n",
    "- What kind of data types (i.e., string, integer, boolean, list) can you add as values to your dictionary?\n",
    "\n",
    "<div>"
   ]
  },
  {
   "cell_type": "code",
   "execution_count": null,
   "id": "7ccd705c-7a20-41dd-864f-ea5697e77798",
   "metadata": {},
   "outputs": [],
   "source": [
    "# Write your exercise code here\n",
    "\n",
    "sounds = {\n",
    "    \"cat\": \"meow\",\n",
    "    \"dog\": \"woof\",\n",
    "}\n"
   ]
  },
  {
   "cell_type": "markdown",
   "id": "9b979994-a627-47ab-a820-14dec4658cef",
   "metadata": {},
   "source": [
    "[<small>answer</small>](../solutions/add_to_dictionary.ipynb)"
   ]
  },
  {
   "cell_type": "markdown",
   "id": "9fac3654-f4f2-4045-bd88-5aad2829af87",
   "metadata": {},
   "source": [
    "## Looping over dictionaries\n",
    "\n",
    "When discussing `for` loops you were told that Python allows you to loop over lots of different types of data such as lists, strings and `range`s. We can add dictionaries to that set.\n",
    "\n",
    "To discover how it works, let's do the naïve thing first and just see what happens when we loop over a dictionary:"
   ]
  },
  {
   "cell_type": "code",
   "execution_count": 5,
   "id": "c0a6b046-f2a3-47c9-b934-5b61244828f8",
   "metadata": {},
   "outputs": [
    {
     "name": "stdout",
     "output_type": "stream",
     "text": [
      "cat\n",
      "dog\n",
      "horse\n"
     ]
    }
   ],
   "source": [
    "sounds = {\n",
    "    \"cat\": \"meow\",\n",
    "    \"dog\": \"woof\",\n",
    "    \"horse\": \"neigh\"\n",
    "}\n",
    "\n",
    "for thing in sounds:\n",
    "    print(thing)"
   ]
  },
  {
   "cell_type": "markdown",
   "id": "2d53c6d6-f7bd-4a7b-8b80-f2853b139754",
   "metadata": {},
   "source": [
    "Hopefully, you recognise those as the keys from the dictionary. So, it seems that when looping over a dictionary we will be given the *keys*.\n",
    "\n",
    "What if, for example, you wanted to loop over the *values* instead. Well, there is a method on dictionaries called `values` which gives you just those so that you can loop over them:"
   ]
  },
  {
   "cell_type": "code",
   "execution_count": 6,
   "id": "0463734a-2880-4e0f-8db9-bcd96c4b63c1",
   "metadata": {},
   "outputs": [
    {
     "name": "stdout",
     "output_type": "stream",
     "text": [
      "meow\n",
      "woof\n",
      "neigh\n"
     ]
    }
   ],
   "source": [
    "sounds = {\n",
    "    \"cat\": \"meow\",\n",
    "    \"dog\": \"woof\",\n",
    "    \"horse\": \"neigh\"\n",
    "}\n",
    "\n",
    "for sound in sounds.values():\n",
    "    print(sound)"
   ]
  },
  {
   "cell_type": "markdown",
   "id": "866326e0-81e4-4d13-8136-c3e107f65ae7",
   "metadata": {},
   "source": [
    "If we want to loop over the dictionary and get both the keys *and* the values, there is a method called `items`. Since it will be giving us two things each loop iteration, we'll have to use the same trick as we did with `enumerate` and give two variable names in the `for` loop declaration:"
   ]
  },
  {
   "cell_type": "code",
   "execution_count": 7,
   "id": "65163ed2-2e97-4292-86f0-4ffbe3496452",
   "metadata": {},
   "outputs": [
    {
     "name": "stdout",
     "output_type": "stream",
     "text": [
      "cat goes meow\n",
      "dog goes woof\n",
      "horse goes neigh\n"
     ]
    }
   ],
   "source": [
    "sounds = {\n",
    "    \"cat\": \"meow\",\n",
    "    \"dog\": \"woof\",\n",
    "    \"horse\": \"neigh\"\n",
    "}\n",
    "\n",
    "for animal, sound in sounds.items():\n",
    "    print(animal, \"goes\", sound)"
   ]
  },
  {
   "cell_type": "markdown",
   "id": "8483e177-2080-4149-a06e-51fe33f44bed",
   "metadata": {},
   "source": [
    "The `items` method gives us two pieces of data where the first is always the key and the second if always the value. We give the keys the name `animal` and the values the name `sound`. We can then use both those variables in the loop body."
   ]
  },
  {
   "cell_type": "markdown",
   "id": "0ce7af55-196f-48a0-af46-dfac7e0f41a5",
   "metadata": {},
   "source": [
    "<div class=\"alert alert-info\" style=\"background-color: white; border: 2px solid; padding: 10px\">\n",
    "    <b><i class=\"fa fa-exclamation-circle\" style=\"font-size: x-large\"></i> <span style=\"font-size:x-large;\">&nbsp;Exercise 13</span></b><br>\n",
    "        \n",
    "Make a dictionary with the keys being the name of countries and the value being the country's capital city. Loop over the dictionary and print something like `\"The capital of France is Paris\"` for each item.\n",
    "<div>"
   ]
  },
  {
   "cell_type": "code",
   "execution_count": null,
   "id": "dfe7853f-75e3-4fbd-88d6-b33efc35f388",
   "metadata": {},
   "outputs": [],
   "source": [
    "# Write your exercise code here\n"
   ]
  },
  {
   "cell_type": "markdown",
   "id": "0727841b-814d-48ac-aa4c-65ee15116443",
   "metadata": {},
   "source": [
    "[<small>answer</small>](../solutions/country_dictionary.ipynb)"
   ]
  },
  {
   "cell_type": "markdown",
   "id": "382f3275-69b5-4785-b612-b388de3b5107",
   "metadata": {},
   "source": [
    "To summarise the different things we can pass to loops and the data that we get given each iteration:\n",
    "\n",
    "- `list`: the items in the list\n",
    "- `str`: the characters in the string\n",
    "- `enumerate()`: a pair of the index of the item and the item itself\n",
    "- `dict`: the *keys* of the dictionary\n",
    "- `dict.keys()`: the keys from the dictionary\n",
    "- `dict.values()`: the values from the dictionary\n",
    "- `dict.items()`: the key-value pairs from the dictionary"
   ]
  },
  {
   "cell_type": "markdown",
   "id": "85c78787-3491-407e-8992-9ec251edc4d4",
   "metadata": {},
   "source": [
    "## [[Previous](./06-conditionals.ipynb)] | [[Next](./08-files.ipynb)]"
   ]
  }
 ],
 "metadata": {
  "kernelspec": {
   "display_name": "Python 3 (ipykernel)",
   "language": "python",
   "name": "python3"
  },
  "language_info": {
   "codemirror_mode": {
    "name": "ipython",
    "version": 3
   },
   "file_extension": ".py",
   "mimetype": "text/x-python",
   "name": "python",
   "nbconvert_exporter": "python",
   "pygments_lexer": "ipython3",
   "version": "3.9.12"
  }
 },
 "nbformat": 4,
 "nbformat_minor": 5
}

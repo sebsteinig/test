{
 "cells": [
  {
   "cell_type": "markdown",
   "id": "e057e088-de06-4266-9959-eb42894dbbb4",
   "metadata": {},
   "source": [
    "#### [[back to main](../week_02_workbook_python-basics.ipynb)]"
   ]
  },
  {
   "cell_type": "markdown",
   "id": "5caf8e12-8dab-4f1c-8f79-6981247eb3a6",
   "metadata": {},
   "source": [
    "# Files\n",
    "\n",
    "Everything we've done so far has been completely self-contained in the script and every time we run any of them we will get exactly the same output. The power of programming is to be able to take the same piece of code and apply it to different data to get different results. One common way in which this is done is writing a notebook (or a script) which can analyse a data file. To do that we need to learn how to open files.\n",
    "\n",
    "The simplest thing we can do with files is read a file in and print it to the screen. Let's have a look at an example file:"
   ]
  },
  {
   "cell_type": "code",
   "execution_count": 15,
   "id": "26c7caea-1b0a-4d34-8da1-607f4b2c7605",
   "metadata": {},
   "outputs": [
    {
     "name": "stdout",
     "output_type": "stream",
     "text": [
      "Introduction to Scientific Computing\n",
      "Lecture 1: Introduction and unit overview\n",
      "Lecture 2: Introduction to Python\n",
      "Lecture 3: Code structuring\n",
      "Lecture 4: Numerical Python \n",
      "Lecture 5: Analysing geospatial datasets \n",
      "..."
     ]
    }
   ],
   "source": [
    "with open(\"../assets/unit_structure.txt\") as f:\n",
    "    for line in f:\n",
    "        print(line, end=\"\")"
   ]
  },
  {
   "cell_type": "markdown",
   "id": "fcde79fe-4944-4384-a738-6ce59adccaa2",
   "metadata": {},
   "source": [
    "When we execute above cell it (somewhat recursively) prints the contents of the file `unit_structure.txt`.\n",
    "\n",
    "There are a few new things here so let's go through them in turn. The first thing is to open the file. You open files using the `open` function. The part `open(\"../assets/unit_structure.txt\")` says to open the file `unit_structure.txt` and additionally indicates the file path where it is stored. This returns a *file handle* which is assigned to the variable `f`. If the file does not exist, or is not readable then the script will exit with an error (have a try and see what the error looks like!). The use of a `with` statement means that when the code inside the `with` block has finished running the file will be closed automatically.\n",
    "\n",
    "In the next line (`for line in f:`) we are looping over the lines of the file. This loop looks just like those we used when looping over lists a few chapters previously. When looping over a list you get each of the *elements* in turn but when looping over an open file you get each of the *lines* in turn. We assign the string containing the line from the file to the variable `line`.\n",
    "\n",
    "Finally, we print the string `line`. Each line in the file already ends with a \"new-line\" character so when it is printed, it will print the new-line too. By default the `print` function will also add its own new-line so we disable that by using `end=\"\"`."
   ]
  },
  {
   "cell_type": "markdown",
   "id": "0ce7af55-196f-48a0-af46-dfac7e0f41a5",
   "metadata": {},
   "source": [
    "<div class=\"alert alert-info\" style=\"background-color: white; border: 2px solid; padding: 10px\">\n",
    "    <b><i class=\"fa fa-exclamation-circle\" style=\"font-size: x-large\"></i> <span style=\"font-size:x-large;\">&nbsp;Exercise 14</span></b><br>\n",
    "        \n",
    "Make a dictionary with the keys being the name of countries and the value being the country's capital city. Loop over the dictionary and print something like `\"The capital of France is Paris\"` for each item.\n",
    "<div>"
   ]
  },
  {
   "cell_type": "code",
   "execution_count": null,
   "id": "dfe7853f-75e3-4fbd-88d6-b33efc35f388",
   "metadata": {},
   "outputs": [],
   "source": [
    "# Write your exercise code here\n"
   ]
  },
  {
   "cell_type": "markdown",
   "id": "0727841b-814d-48ac-aa4c-65ee15116443",
   "metadata": {},
   "source": [
    "[<small>answer</small>](../solutions/country_dictionary.ipynb)"
   ]
  },
  {
   "cell_type": "markdown",
   "id": "85c78787-3491-407e-8992-9ec251edc4d4",
   "metadata": {},
   "source": [
    "## [[Previous](./07-dictionaries.ipynb)] | [[Next](./09-summary.ipynb)]"
   ]
  }
 ],
 "metadata": {
  "kernelspec": {
   "display_name": "Python 3 (ipykernel)",
   "language": "python",
   "name": "python3"
  },
  "language_info": {
   "codemirror_mode": {
    "name": "ipython",
    "version": 3
   },
   "file_extension": ".py",
   "mimetype": "text/x-python",
   "name": "python",
   "nbconvert_exporter": "python",
   "pygments_lexer": "ipython3",
   "version": "3.9.12"
  }
 },
 "nbformat": 4,
 "nbformat_minor": 5
}
